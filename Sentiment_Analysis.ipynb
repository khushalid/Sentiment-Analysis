{
 "cells": [
  {
   "cell_type": "markdown",
   "metadata": {
    "id": "x4v9HNB38yjc"
   },
   "source": [
    "# Sentiment Analysis on Twitter data\n",
    "\n",
    "The data contains:\n",
    "\n",
    "- `train.csv`\n",
    "- `test.csv`\n",
    "\n",
    "In this problem, we look at predicting whether a tweet has positive or negative sentiment.\n",
    "\n",
    "Note that using all the data does involve more careful data preprocessing to avoid possible memory issues. Some suggestions: using your knowledge from weeks 1 and 2, you can write your own code to tokenize tweets and only include some of the tokens (e.g., only keeping the most common 1000 tokens, etc); in particular you can build your own vocabulary. We make vocabulary token \\#0 correspond to a special padding character `\"<pad>\"`; this special index 0 will in fact be automatically added by the batching process for recurrent neural nets when making different tweets within the same batch have the same length. We make a special vocabulary token `\"<unk>\"` for unknown tokens that you've decided not to keep track of. For example, if you only keep track of the most common 1000 tokens, then any token that is not one of these most common 1000 gets represented as `\"<unk>\"`."
   ]
  },
  {
   "cell_type": "markdown",
   "metadata": {
    "id": "S3BCnPhI8yjc"
   },
   "source": [
    "**(a)** We first read in the tweet data. Read the data present in `train.csv` file. Then we do the following:\n",
    "\n",
    "1. Keep only the sentiment and sentiment text in the data - the first and the last coumn\n",
    "2. Print the number of positive and negative sentiment labels\n",
    "\n",
    "Note: Since we are are using `open()`, we set `encoding='iso8859'`."
   ]
  },
  {
   "cell_type": "code",
   "execution_count": null,
   "metadata": {
    "colab": {
     "base_uri": "https://localhost:8080/"
    },
    "id": "EwfAc31Yyn_V",
    "outputId": "fcd8915d-2d6b-43c5-a47b-163801a10b7a"
   },
   "outputs": [
    {
     "name": "stdout",
     "output_type": "stream",
     "text": [
      "Drive already mounted at /content/drive; to attempt to forcibly remount, call drive.mount(\"/content/drive\", force_remount=True).\n"
     ]
    }
   ],
   "source": [
    "from google.colab import drive\n",
    "drive.mount('/content/drive')"
   ]
  },
  {
   "cell_type": "code",
   "execution_count": null,
   "metadata": {
    "colab": {
     "base_uri": "https://localhost:8080/"
    },
    "id": "H1vxL_9rys38",
    "outputId": "3bacd1e2-4144-45d2-f7a2-37639e2aa9ed"
   },
   "outputs": [
    {
     "name": "stdout",
     "output_type": "stream",
     "text": [
      "Requirement already satisfied: torchinfo in /usr/local/lib/python3.10/dist-packages (1.8.0)\n"
     ]
    }
   ],
   "source": [
    "! pip install torchinfo"
   ]
  },
  {
   "cell_type": "code",
   "execution_count": null,
   "metadata": {
    "colab": {
     "base_uri": "https://localhost:8080/"
    },
    "id": "aZmIpljOyjl_",
    "outputId": "2beb2dea-c3fa-4baa-a63b-cad33d681088"
   },
   "outputs": [
    {
     "name": "stdout",
     "output_type": "stream",
     "text": [
      "/content/drive/MyDrive/Unstructured_Data_Analytics/HW3\n"
     ]
    }
   ],
   "source": [
    "%matplotlib inline\n",
    "import matplotlib.pyplot as plt\n",
    "import numpy as np\n",
    "import random\n",
    "\n",
    "import torch\n",
    "import torch.nn as nn\n",
    "import torchvision\n",
    "import torchvision.transforms as transforms\n",
    "from torchinfo import summary\n",
    "\n",
    "torch.use_deterministic_algorithms(False)  # to help make code deterministic\n",
    "# torch.backends.cudnn.benchmark = False  # to help make code deterministic\n",
    "np.random.seed(0)  # to help make code deterministic\n",
    "torch.manual_seed(0)  # to help make code deterministic\n",
    "random.seed(0)  # to help make code deterministic\n",
    "\n",
    "%cd /content/drive/MyDrive/Unstructured_Data_Analytics/HW3/\n",
    "\n",
    "from UDA_pytorch_utils import UDA_pytorch_classifier_fit, \\\n",
    "        UDA_plot_train_val_accuracy_vs_epoch, UDA_pytorch_classifier_predict, \\\n",
    "        UDA_pytorch_model_transform, UDA_compute_accuracy, UDA_get_rnn_last_time_step_outputs"
   ]
  },
  {
   "cell_type": "code",
   "execution_count": null,
   "metadata": {
    "colab": {
     "base_uri": "https://localhost:8080/"
    },
    "id": "UgX3lOwl8yjc",
    "outputId": "3764aca7-c2d4-423d-eb29-619af06f0f13"
   },
   "outputs": [
    {
     "name": "stdout",
     "output_type": "stream",
     "text": [
      "Number of positive sentiment labels: 800000\n",
      "Number of negative sentiment labels: 800000\n"
     ]
    }
   ],
   "source": [
    "import csv\n",
    "from collections import Counter\n",
    "\n",
    "file_path = './HW3-data/train.csv'\n",
    "\n",
    "\n",
    "sentiment_counts = Counter({'0': 0, '1': 0})\n",
    "train_dataset = []\n",
    "try:\n",
    "    with open(file_path, 'r', encoding='iso8859') as csvfile:\n",
    "        reader = csv.reader(csvfile)\n",
    "        for row in reader:\n",
    "            sentiment = row[0]\n",
    "            tweet_text = row[-1]\n",
    "            train_dataset.append((tweet_text, sentiment,))\n",
    "\n",
    "            if sentiment in ['0', '1']:\n",
    "                sentiment_counts[sentiment] += 1\n",
    "\n",
    "\n",
    "    print(f\"Number of positive sentiment labels: {sentiment_counts['1']}\")\n",
    "    print(f\"Number of negative sentiment labels: {sentiment_counts['0']}\")\n",
    "\n",
    "except Exception as e:\n",
    "    print(f\"An error occurred: {e}\")"
   ]
  },
  {
   "cell_type": "markdown",
   "metadata": {
    "id": "K8CwOXDO8yjc"
   },
   "source": [
    "**(b)** Now we modify the LSTM code to work with this Twitter dataset. We can play with the learning rate and batch size so that the training gives reasonable increases in validation accuracy scores as we progress through epochs (leave the number of epochs at 10). What test accuracy are you able to achieve?"
   ]
  },
  {
   "cell_type": "code",
   "execution_count": null,
   "metadata": {
    "colab": {
     "base_uri": "https://localhost:8080/"
    },
    "id": "G_M27_LT8yjc",
    "outputId": "fd243411-18c2-4cc1-da40-9471bc898b4d"
   },
   "outputs": [
    {
     "name": "stdout",
     "output_type": "stream",
     "text": [
      "# proper training data points: 1280000\n",
      "# validation data points: 320000\n"
     ]
    }
   ],
   "source": [
    "proper_train_size = int(len(train_dataset) * 0.8)\n",
    "val_size = len(train_dataset) - proper_train_size\n",
    "print('# proper training data points:', proper_train_size)\n",
    "print('# validation data points:', val_size)"
   ]
  },
  {
   "cell_type": "code",
   "execution_count": null,
   "metadata": {
    "id": "SshaJ5Qc5Zg_"
   },
   "outputs": [],
   "source": [
    "proper_train_dataset, val_dataset = torch.utils.data.random_split(train_dataset,\n",
    "                                                                  [proper_train_size,\n",
    "                                                                   val_size])"
   ]
  },
  {
   "cell_type": "code",
   "execution_count": null,
   "metadata": {
    "colab": {
     "base_uri": "https://localhost:8080/"
    },
    "id": "Gk4Vf-fG5ofE",
    "outputId": "03edb539-b52d-4f8b-ecbc-9ae64239f414"
   },
   "outputs": [
    {
     "data": {
      "text/plain": [
       "(\"@damohopo hey what do you mean by suggesting @rudedoodle and i are targets? i may look like a water buffalo but that's just mean  x\",\n",
       " '0')"
      ]
     },
     "execution_count": 22,
     "metadata": {},
     "output_type": "execute_result"
    }
   ],
   "source": [
    "proper_train_dataset[0]"
   ]
  },
  {
   "cell_type": "code",
   "execution_count": null,
   "metadata": {
    "id": "EvLcQa2p5vJI"
   },
   "outputs": [],
   "source": [
    "from torchtext.data import get_tokenizer"
   ]
  },
  {
   "cell_type": "code",
   "execution_count": null,
   "metadata": {
    "id": "1hFR2BF75z4i"
   },
   "outputs": [],
   "source": [
    "tokenizer_cased = get_tokenizer('spacy', language='en_core_web_sm')"
   ]
  },
  {
   "cell_type": "code",
   "execution_count": null,
   "metadata": {
    "id": "7rZ9OlBm54mh"
   },
   "outputs": [],
   "source": [
    "def tokenizer(text):\n",
    "    return [token.lower() for token in tokenizer_cased(text)]"
   ]
  },
  {
   "cell_type": "code",
   "execution_count": null,
   "metadata": {
    "id": "sBiD3rBh6zM5"
   },
   "outputs": [],
   "source": [
    "proper_train_dataset_as_tokens_without_labels = [tokenizer(text) for text, label in proper_train_dataset]"
   ]
  },
  {
   "cell_type": "code",
   "execution_count": null,
   "metadata": {
    "id": "Yr9m1P6591F-"
   },
   "outputs": [],
   "source": [
    "from torchtext.vocab import build_vocab_from_iterator\n",
    "from collections import Counter\n",
    "from itertools import chain\n",
    "\n",
    "\n",
    "all_tokens = list(chain.from_iterable(proper_train_dataset_as_tokens_without_labels))\n",
    "\n",
    "common_tokens = Counter(all_tokens).most_common(1000)\n",
    "\n",
    "def yield_tokens():\n",
    "    for word, _ in common_tokens:\n",
    "        yield [word]\n",
    "\n",
    "vocab = build_vocab_from_iterator(yield_tokens(),\n",
    "                                  specials=[\"<unk>\"],\n",
    "                                  max_tokens=1000)\n",
    "\n",
    "vocab.set_default_index(vocab['<unk>'])"
   ]
  },
  {
   "cell_type": "code",
   "execution_count": null,
   "metadata": {
    "id": "4oulLlB4-e0x"
   },
   "outputs": [],
   "source": [
    "proper_train_encoded = [vocab(tokens) for tokens in proper_train_dataset_as_tokens_without_labels]\n"
   ]
  },
  {
   "cell_type": "code",
   "execution_count": null,
   "metadata": {
    "id": "cBVL9-PZ-f3o"
   },
   "outputs": [],
   "source": [
    "proper_train_labels = [int(label) for text, label in proper_train_dataset]"
   ]
  },
  {
   "cell_type": "code",
   "execution_count": null,
   "metadata": {
    "id": "HGaTcZMV_XXs"
   },
   "outputs": [],
   "source": [
    "val_encoded = [vocab(tokenizer(text)) for text, label in val_dataset]"
   ]
  },
  {
   "cell_type": "code",
   "execution_count": null,
   "metadata": {
    "id": "WcgDaYGX_hh_"
   },
   "outputs": [],
   "source": [
    "val_labels = [int(label) for text, label in val_dataset]\n"
   ]
  },
  {
   "cell_type": "code",
   "execution_count": null,
   "metadata": {
    "id": "mr9fUjpU_nIE"
   },
   "outputs": [],
   "source": [
    "proper_train_dataset_encoded = list(zip(proper_train_encoded, proper_train_labels))\n",
    "val_dataset_encoded = list(zip(val_encoded, val_labels))"
   ]
  },
  {
   "cell_type": "code",
   "execution_count": null,
   "metadata": {
    "colab": {
     "base_uri": "https://localhost:8080/"
    },
    "id": "CpJ273QI_3xQ",
    "outputId": "2d0ff189-0c6b-4205-ee7f-7ca9410d6023"
   },
   "outputs": [
    {
     "name": "stderr",
     "output_type": "stream",
     "text": [
      ".vector_cache/glove.6B.zip: 862MB [02:39, 5.40MB/s]                           \n",
      "100%|█████████▉| 399999/400000 [00:39<00:00, 10124.86it/s]\n"
     ]
    }
   ],
   "source": [
    "from torchtext.vocab import GloVe\n",
    "pretrained_embedding = GloVe(name='6B', dim=100)"
   ]
  },
  {
   "cell_type": "code",
   "execution_count": null,
   "metadata": {
    "id": "UO68ZMm1_9rO"
   },
   "outputs": [],
   "source": [
    "embedding_matrix = torch.zeros(len(vocab), pretrained_embedding.dim)\n",
    "for i, token in enumerate(vocab.lookup_tokens(range(len(vocab)))):\n",
    "    embedding_matrix[i] = pretrained_embedding[token]"
   ]
  },
  {
   "cell_type": "code",
   "execution_count": null,
   "metadata": {
    "id": "oIO67eQMAh5z"
   },
   "outputs": [],
   "source": [
    "class EmbeddingLSTMLinearModel(nn.Module):\n",
    "    def __init__(self, embedding_matrix, num_lstm_output_nodes, num_final_output_nodes):\n",
    "        super().__init__()\n",
    "        self.embedding_layer = nn.Embedding.from_pretrained(embedding_matrix)\n",
    "        self.lstm_layer = nn.LSTM(embedding_matrix.shape[1], num_lstm_output_nodes)\n",
    "        self.linear_layer = nn.Linear(num_lstm_output_nodes, num_final_output_nodes)\n",
    "\n",
    "    def forward(self, text_encodings, lengths):\n",
    "        embeddings = self.embedding_layer(text_encodings)\n",
    "\n",
    "        rnn_last_time_step_outputs = UDA_get_rnn_last_time_step_outputs(embeddings, lengths, self.lstm_layer)\n",
    "\n",
    "        return self.linear_layer(rnn_last_time_step_outputs)"
   ]
  },
  {
   "cell_type": "code",
   "execution_count": null,
   "metadata": {
    "id": "jZipmvZUArcm"
   },
   "outputs": [],
   "source": [
    "simple_lstm_model = EmbeddingLSTMLinearModel(embedding_matrix, 32, 2)"
   ]
  },
  {
   "cell_type": "code",
   "execution_count": null,
   "metadata": {
    "colab": {
     "base_uri": "https://localhost:8080/"
    },
    "id": "0wXbAibWAu_3",
    "outputId": "27f9e2a4-6fe9-4758-e827-41e67465b146"
   },
   "outputs": [
    {
     "data": {
      "text/plain": [
       "==========================================================================================\n",
       "Layer (type:depth-idx)                   Output Shape              Param #\n",
       "==========================================================================================\n",
       "EmbeddingLSTMLinearModel                 [5, 2]                    --\n",
       "├─Embedding: 1-1                         [7, 5, 100]               (100,000)\n",
       "├─LSTM: 1-2                              [18, 32]                  17,152\n",
       "├─Linear: 1-3                            [5, 2]                    66\n",
       "==========================================================================================\n",
       "Total params: 117,218\n",
       "Trainable params: 17,218\n",
       "Non-trainable params: 100,000\n",
       "Total mult-adds (M): 10.58\n",
       "==========================================================================================\n",
       "Input size (MB): 0.00\n",
       "Forward/backward pass size (MB): 0.03\n",
       "Params size (MB): 0.47\n",
       "Estimated Total Size (MB): 0.50\n",
       "=========================================================================================="
      ]
     },
     "execution_count": 56,
     "metadata": {},
     "output_type": "execute_result"
    }
   ],
   "source": [
    "summary(simple_lstm_model,\n",
    "        input_data=[torch.zeros((7, 5), dtype=torch.long),\n",
    "                    torch.tensor([3, 2, 5, 1, 7], dtype=torch.long)])"
   ]
  },
  {
   "cell_type": "code",
   "execution_count": null,
   "metadata": {
    "colab": {
     "base_uri": "https://localhost:8080/",
     "height": 824
    },
    "id": "yPH3ooawA2ef",
    "outputId": "5c3cb4e6-f209-4d6e-a51f-e42529c36d0f"
   },
   "outputs": [
    {
     "name": "stderr",
     "output_type": "stream",
     "text": [
      "\r",
      "  0%|          | 0/10 [00:00<?, ?it/s]"
     ]
    },
    {
     "name": "stdout",
     "output_type": "stream",
     "text": [
      "  Proper training accuracy: 0.7947\n",
      "  Validation accuracy: 0.7924\n"
     ]
    },
    {
     "name": "stderr",
     "output_type": "stream",
     "text": [
      "\r",
      " 10%|█         | 1/10 [04:02<36:22, 242.50s/it]"
     ]
    },
    {
     "name": "stdout",
     "output_type": "stream",
     "text": [
      "  Proper training accuracy: 0.8022\n",
      "  Validation accuracy: 0.7992\n"
     ]
    },
    {
     "name": "stderr",
     "output_type": "stream",
     "text": [
      "\r",
      " 20%|██        | 2/10 [08:09<32:39, 244.97s/it]"
     ]
    },
    {
     "name": "stdout",
     "output_type": "stream",
     "text": [
      "  Proper training accuracy: 0.8048\n",
      "  Validation accuracy: 0.8011\n"
     ]
    },
    {
     "name": "stderr",
     "output_type": "stream",
     "text": [
      "\r",
      " 30%|███       | 3/10 [12:01<27:54, 239.22s/it]"
     ]
    },
    {
     "name": "stdout",
     "output_type": "stream",
     "text": [
      "  Proper training accuracy: 0.8049\n",
      "  Validation accuracy: 0.8008\n"
     ]
    },
    {
     "name": "stderr",
     "output_type": "stream",
     "text": [
      "\r",
      " 40%|████      | 4/10 [15:51<23:33, 235.63s/it]"
     ]
    },
    {
     "name": "stdout",
     "output_type": "stream",
     "text": [
      "  Proper training accuracy: 0.8096\n",
      "  Validation accuracy: 0.8044\n"
     ]
    },
    {
     "name": "stderr",
     "output_type": "stream",
     "text": [
      "\r",
      " 50%|█████     | 5/10 [19:44<19:33, 234.76s/it]"
     ]
    },
    {
     "name": "stdout",
     "output_type": "stream",
     "text": [
      "  Proper training accuracy: 0.8093\n",
      "  Validation accuracy: 0.8037\n"
     ]
    },
    {
     "name": "stderr",
     "output_type": "stream",
     "text": [
      "\r",
      " 60%|██████    | 6/10 [23:37<15:35, 233.96s/it]"
     ]
    },
    {
     "name": "stdout",
     "output_type": "stream",
     "text": [
      "  Proper training accuracy: 0.8102\n",
      "  Validation accuracy: 0.8035\n"
     ]
    },
    {
     "name": "stderr",
     "output_type": "stream",
     "text": [
      "\r",
      " 70%|███████   | 7/10 [27:29<11:39, 233.24s/it]"
     ]
    },
    {
     "name": "stdout",
     "output_type": "stream",
     "text": [
      "  Proper training accuracy: 0.8120\n",
      "  Validation accuracy: 0.8054\n"
     ]
    },
    {
     "name": "stderr",
     "output_type": "stream",
     "text": [
      "\r",
      " 80%|████████  | 8/10 [31:23<07:46, 233.46s/it]"
     ]
    },
    {
     "name": "stdout",
     "output_type": "stream",
     "text": [
      "  Proper training accuracy: 0.8126\n",
      "  Validation accuracy: 0.8057\n"
     ]
    },
    {
     "name": "stderr",
     "output_type": "stream",
     "text": [
      "\r",
      " 90%|█████████ | 9/10 [35:16<03:53, 233.42s/it]"
     ]
    },
    {
     "name": "stdout",
     "output_type": "stream",
     "text": [
      "  Proper training accuracy: 0.8122\n",
      "  Validation accuracy: 0.8061\n"
     ]
    },
    {
     "name": "stderr",
     "output_type": "stream",
     "text": [
      "100%|██████████| 10/10 [39:08<00:00, 234.84s/it]\n"
     ]
    },
    {
     "data": {
      "image/png": "[encoded data removed]",
      "text/plain": [
       "<Figure size 640x480 with 1 Axes>"
      ]
     },
     "metadata": {},
     "output_type": "display_data"
    }
   ],
   "source": [
    "num_epochs = 10  # during optimization, how many times we look at training data\n",
    "batch_size = 128  # during optimization, how many training data to use at each step\n",
    "learning_rate = 0.001  # during optimization, how much we nudge our solution at each step\n",
    "\n",
    "proper_train_accuracies, val_accuracies = \\\n",
    "    UDA_pytorch_classifier_fit(simple_lstm_model,\n",
    "                               torch.optim.Adam(simple_lstm_model.parameters(),\n",
    "                                                lr=learning_rate),\n",
    "                               nn.CrossEntropyLoss(),  # includes softmax\n",
    "                               proper_train_dataset_encoded, val_dataset_encoded,\n",
    "                               num_epochs, batch_size,\n",
    "                               rnn=True,\n",
    "                               save_epoch_checkpoint_prefix='./saved_model_checkpoints')\n",
    "\n",
    "UDA_plot_train_val_accuracy_vs_epoch(proper_train_accuracies, val_accuracies)"
   ]
  },
  {
   "cell_type": "code",
   "execution_count": null,
   "metadata": {
    "colab": {
     "base_uri": "https://localhost:8080/"
    },
    "id": "6_kiyYnrFr_e",
    "outputId": "9444bc15-9193-4f6d-b84b-543963c861d8"
   },
   "outputs": [
    {
     "name": "stdout",
     "output_type": "stream",
     "text": [
      "Number of positive sentiment labels: 182\n",
      "Number of negative sentiment labels: 316\n"
     ]
    }
   ],
   "source": [
    "import csv\n",
    "from collections import Counter\n",
    "\n",
    "file_path = './HW3-data/test.csv'\n",
    "\n",
    "\n",
    "sentiment_counts = Counter({'0': 0, '1': 0})\n",
    "test_dataset = []\n",
    "try:\n",
    "    with open(file_path, 'r', encoding='iso8859') as csvfile:\n",
    "        reader = csv.reader(csvfile)\n",
    "        for row in reader:\n",
    "            sentiment = row[0]\n",
    "            tweet_text = row[-1]\n",
    "            test_dataset.append((tweet_text, sentiment,))\n",
    "\n",
    "            if sentiment in ['0', '1']:\n",
    "                sentiment_counts[sentiment] += 1\n",
    "\n",
    "\n",
    "    print(f\"Number of positive sentiment labels: {sentiment_counts['1']}\")\n",
    "    print(f\"Number of negative sentiment labels: {sentiment_counts['0']}\")\n",
    "\n",
    "except Exception as e:\n",
    "    print(f\"An error occurred: {e}\")"
   ]
  },
  {
   "cell_type": "code",
   "execution_count": null,
   "metadata": {
    "id": "RG82kCPyFxNJ"
   },
   "outputs": [],
   "source": [
    "test_encoded = [vocab(tokenizer(text)) for text, label in test_dataset]"
   ]
  },
  {
   "cell_type": "code",
   "execution_count": null,
   "metadata": {
    "id": "B4c-mbALF6v8"
   },
   "outputs": [],
   "source": [
    "test_labels = [int(label) for text, label in test_dataset]"
   ]
  },
  {
   "cell_type": "code",
   "execution_count": null,
   "metadata": {
    "id": "IsVbHQ0QF9Ik"
   },
   "outputs": [],
   "source": [
    "predicted_test_labels = UDA_pytorch_classifier_predict(simple_lstm_model,\n",
    "                                                       test_encoded,\n",
    "                                                       rnn=True)"
   ]
  },
  {
   "cell_type": "code",
   "execution_count": null,
   "metadata": {
    "colab": {
     "base_uri": "https://localhost:8080/"
    },
    "id": "138S6OgPGBDG",
    "outputId": "efcbd028-dacf-408d-8f2a-58e1b6e44d16"
   },
   "outputs": [
    {
     "name": "stdout",
     "output_type": "stream",
     "text": [
      "Test accuracy: 0.6385542168674698\n"
     ]
    }
   ],
   "source": [
    "print('Test accuracy:', UDA_compute_accuracy(predicted_test_labels, test_labels))"
   ]
  }
 ],
 "metadata": {
  "accelerator": "GPU",
  "colab": {
   "gpuType": "T4",
   "provenance": [],
   "toc_visible": true
  },
  "kernelspec": {
   "display_name": "Python 3 (ipykernel)",
   "language": "python",
   "name": "python3"
  },
  "language_info": {
   "codemirror_mode": {
    "name": "ipython",
    "version": 3
   },
   "file_extension": ".py",
   "mimetype": "text/x-python",
   "name": "python",
   "nbconvert_exporter": "python",
   "pygments_lexer": "ipython3",
   "version": "3.11.4"
  }
 },
 "nbformat": 4,
 "nbformat_minor": 1
}
